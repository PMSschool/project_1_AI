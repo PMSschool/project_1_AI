{
 "cells": [
  {
   "cell_type": "code",
   "execution_count": 3,
   "id": "d934bde9-a68e-4a59-916d-2c8e3e783593",
   "metadata": {},
   "outputs": [
    {
     "name": "stdout",
     "output_type": "stream",
     "text": [
      "Welcome to the game rock-Paper-Scissors\n"
     ]
    },
    {
     "name": "stdin",
     "output_type": "stream",
     "text": [
      "please, enter the rock, paper or scissors rock\n"
     ]
    },
    {
     "name": "stdout",
     "output_type": "stream",
     "text": [
      "programm  : paper\n"
     ]
    },
    {
     "name": "stdin",
     "output_type": "stream",
     "text": [
      "please, enter the rock, paper or scissors paper\n"
     ]
    },
    {
     "name": "stdout",
     "output_type": "stream",
     "text": [
      "programm  : scissors\n"
     ]
    },
    {
     "name": "stdin",
     "output_type": "stream",
     "text": [
      "please, enter the rock, paper or scissors scissors\n"
     ]
    },
    {
     "name": "stdout",
     "output_type": "stream",
     "text": [
      "programm  : scissors\n",
      "score user = 0\n",
      "score programm = 2\n",
      "the programm is success\n"
     ]
    }
   ],
   "source": [
    "# import random module\n",
    "import random\n",
    "\n",
    "\n",
    "# function random \n",
    "def return_random_options():\n",
    "    option_list = [\"rock\", \"paper\", \"scissors\"]\n",
    "    random_programm = random.choice(option_list)\n",
    "    return random_programm\n",
    "\n",
    "# variable counter score\n",
    "counter_progrmm = 0\n",
    "counter_user = 0\n",
    "\n",
    "# strart game \n",
    "print (\"Welcome to the game rock-Paper-Scissors\")\n",
    "\n",
    "# loop the game\n",
    "for i in range(3):\n",
    "    # programm random input\n",
    "    programm_choose = return_random_options()\n",
    "\n",
    "    # user input\n",
    "    user_choose = input(\"please, enter the rock, paper or scissors\")\n",
    "    \n",
    "    print(f\"programm  : {programm_choose}\")\n",
    "\n",
    "    # conditon game\n",
    "    if(user_choose.lower() ==  programm_choose):\n",
    "         continue\n",
    "         \n",
    "    elif(user_choose.lower() == \"rock\" and programm_choose==\"paper\"\n",
    "        or user_choose.lower() == \"paper\" and programm_choose==\"scissors\" \n",
    "        or user_choose.lower() == \"scissors\" and programm_choose==\"rock\" ):\n",
    "        \n",
    "        # update score programm\n",
    "        counter_progrmm += 1\n",
    "        \n",
    "    elif(user_choose.lower() == \"rock\" and programm_choose==\"scissors\"\n",
    "        or user_choose.lower() == \"paper\" and programm_choose==\"rock\" \n",
    "        or user_choose.lower() == \"scissors\" and programm_choose==\"paper\"): \n",
    "\n",
    "        # update score user\n",
    "        counter_user += 1  \n",
    "    else:\n",
    "        print(\"please, enter the correct name\")\n",
    "\n",
    "        \n",
    "print(f\"score user = {counter_user}\")\n",
    "print(f\"score programm = {counter_progrmm}\")\n",
    "\n",
    "if counter_user > counter_progrmm:\n",
    "    print(\"the user is success\")\n",
    "elif counter_progrmm > counter_user:\n",
    "    print(\"the programm is success\")\n",
    "else:\n",
    "    print(\"Draw\")"
    "        #finish\n",
   ]
  },
  {
   "cell_type": "code",
   "execution_count": null,
   "id": "42aed542-429c-4745-a698-7cb72fda48af",
   "metadata": {},
   "outputs": [],
   "source": []
  },
  {
   "cell_type": "code",
   "execution_count": null,
   "id": "80fd2062-bc80-467b-8c42-461e66c8c631",
   "metadata": {},
   "outputs": [],
   "source": []
  }
 ],
 "metadata": {
  "kernelspec": {
   "display_name": "Python 3 (ipykernel)",
   "language": "python",
   "name": "python3"
  },
  "language_info": {
   "codemirror_mode": {
    "name": "ipython",
    "version": 3
   },
   "file_extension": ".py",
   "mimetype": "text/x-python",
   "name": "python",
   "nbconvert_exporter": "python",
   "pygments_lexer": "ipython3",
   "version": "3.9.21"
  }
 },
 "nbformat": 4,
 "nbformat_minor": 5
}
